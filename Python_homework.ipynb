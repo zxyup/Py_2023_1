{
 "cells": [
  {
   "attachments": {},
   "cell_type": "markdown",
   "metadata": {},
   "source": [
    "## HW1"
   ]
  },
  {
   "cell_type": "code",
   "execution_count": null,
   "metadata": {},
   "outputs": [],
   "source": [
    "def deletechar(str,n):\n",
    "    return str[:n-1]+str[n:]\n",
    "\n",
    "str='Hello World!'\n",
    "print(\"删除前        \"+str)\n",
    "print(\"删除第二个后   \"+deletechar(str,2))"
   ]
  },
  {
   "cell_type": "code",
   "execution_count": null,
   "metadata": {},
   "outputs": [],
   "source": [
    "def sortbydict(str):\n",
    "    ll=list(str)\n",
    "    for j in range(len(ll)-1):\n",
    "        for i in range(len(ll)-j-1):\n",
    "            if(ll[i]>ll[i+1]):\n",
    "                t=ll[i]\n",
    "                ll[i]=ll[i+1]\n",
    "                ll[i+1]=t\n",
    "    new=''.join(ll)\n",
    "    return new\n",
    "\n",
    "str='qwer6tyuiopasd4fg5hjklz7xcvbnm'\n",
    "print(\"按字典序排序后  \"+sortbydict(str))"
   ]
  },
  {
   "cell_type": "code",
   "execution_count": null,
   "metadata": {},
   "outputs": [],
   "source": [
    "from platform import *\n",
    "\n",
    "print(\"名称    \"+system())\n",
    "print(\"平台    \"+platform())\n",
    "print(\"版本号  \"+version())"
   ]
  },
  {
   "attachments": {},
   "cell_type": "markdown",
   "metadata": {},
   "source": [
    "# HW2"
   ]
  },
  {
   "attachments": {},
   "cell_type": "markdown",
   "metadata": {},
   "source": [
    "#### 1.写一个程序计算列表中所有元素的和"
   ]
  },
  {
   "cell_type": "code",
   "execution_count": null,
   "metadata": {},
   "outputs": [],
   "source": [
    "def msum(list):\n",
    "    # return sum(list)\n",
    "    sum=0\n",
    "    for i in list:\n",
    "        sum+=i\n",
    "    return sum\n",
    "\n",
    "list=[1,2,3,4,5,6,7,8,9]\n",
    "print('Sum of list = {}'.format(msum(list)))"
   ]
  },
  {
   "attachments": {},
   "cell_type": "markdown",
   "metadata": {},
   "source": [
    "#### 2.写一个程序将列表中的重复元素删除"
   ]
  },
  {
   "cell_type": "code",
   "execution_count": null,
   "metadata": {},
   "outputs": [],
   "source": [
    "def delmulti(list):\n",
    "    for i in list:\n",
    "        while list.count(i)>1:\n",
    "            list.remove(i)\n",
    "\n",
    "list=[1,1,1,1,2,2,2,2,'aa','aa','aa','cc']\n",
    "print('Before del:',list)\n",
    "delmulti(list)\n",
    "print('After del :',list)"
   ]
  },
  {
   "attachments": {},
   "cell_type": "markdown",
   "metadata": {},
   "source": [
    "#### 3.写一个程序输出列表中第二大的元素"
   ]
  },
  {
   "cell_type": "code",
   "execution_count": null,
   "metadata": {},
   "outputs": [],
   "source": [
    "def out2nd(list):\n",
    "    list1=list[:]\n",
    "    mm=max(list1)\n",
    "    while(list1.count(mm)):\n",
    "        list1.remove(mm)\n",
    "    return max(list1)\n",
    "\n",
    "list=[96,47,92,26,45,68,5,30,90,77,96]\n",
    "print('The 2nd max is ',out2nd(list))"
   ]
  },
  {
   "attachments": {},
   "cell_type": "markdown",
   "metadata": {},
   "source": [
    "# HW3"
   ]
  },
  {
   "attachments": {},
   "cell_type": "markdown",
   "metadata": {},
   "source": [
    "#### 1.写一个程序输出下列图形"
   ]
  },
  {
   "cell_type": "code",
   "execution_count": null,
   "metadata": {},
   "outputs": [],
   "source": [
    "for i in range(1,10):\n",
    "    if i<=5:\n",
    "        print('* '*i)\n",
    "    else:\n",
    "        print('* '*(10-i))"
   ]
  },
  {
   "attachments": {},
   "cell_type": "markdown",
   "metadata": {},
   "source": [
    "#### 2.写一个程序输出元组中偶数和奇数的个数"
   ]
  },
  {
   "cell_type": "code",
   "execution_count": null,
   "metadata": {},
   "outputs": [],
   "source": [
    "def out_e_o(tup):\n",
    "    odd=0\n",
    "    even=0\n",
    "    for i in tup:\n",
    "        if i%2:\n",
    "            odd=odd+1\n",
    "        else :\n",
    "            even=even+1\n",
    "    print('元组',tup,'中：')\n",
    "    print('偶数有{}个'.format(even))\n",
    "    print('奇数有{}个'.format(odd))\n",
    "\n",
    "tup=(1,2,3,4,5,6,7,8,9)\n",
    "out_e_o(tup)"
   ]
  },
  {
   "attachments": {},
   "cell_type": "markdown",
   "metadata": {},
   "source": [
    "#### 3.写一个程序输出满足下列条件的矩阵, \n",
    "##### 1)矩阵行列由键盘输入  \n",
    "##### 2)矩阵元素的值为矩阵行列序号的乘积"
   ]
  },
  {
   "cell_type": "code",
   "execution_count": null,
   "metadata": {},
   "outputs": [],
   "source": [
    "shape=tuple(map(int,input().split(',')))\n",
    "mat=[]\n",
    "print('shape:',shape)\n",
    "for i in range(shape[0]):\n",
    "    row=[]\n",
    "    for j in range(shape[1]):\n",
    "        row.append((i+1)*(j+1))\n",
    "        print((i+1)*(j+1),end='\\t')\n",
    "    mat.append(row)\n",
    "    print('\\n')\n"
   ]
  },
  {
   "attachments": {},
   "cell_type": "markdown",
   "metadata": {},
   "source": [
    "# HW4"
   ]
  },
  {
   "attachments": {},
   "cell_type": "markdown",
   "metadata": {},
   "source": [
    "#### 1.写一个程序合并两个字典"
   ]
  },
  {
   "cell_type": "code",
   "execution_count": null,
   "metadata": {},
   "outputs": [],
   "source": [
    "dict1={'a':1,'b':2,'c':3}\n",
    "dict2={'c':4,'d':5}\n",
    "\n",
    "dict3={}\n",
    "dict3.update(dict1)\n",
    "dict3.update(dict2)\n",
    "print('合并后的字典',dict3)"
   ]
  },
  {
   "attachments": {},
   "cell_type": "markdown",
   "metadata": {},
   "source": [
    "#### 2.写一个程序从字典中删除某个关键字"
   ]
  },
  {
   "cell_type": "code",
   "execution_count": null,
   "metadata": {},
   "outputs": [],
   "source": [
    "dict1={'a':1,'b':2,'c':3,'d':4,'e':5}\n",
    "key=input('Please input the key you want del:')\n",
    "print('Before del',dict1)\n",
    "del dict1[key]\n",
    "print('After del',dict1)"
   ]
  },
  {
   "attachments": {},
   "cell_type": "markdown",
   "metadata": {},
   "source": [
    "# HW5"
   ]
  },
  {
   "attachments": {},
   "cell_type": "markdown",
   "metadata": {},
   "source": [
    "#### 1.写一个函数将字符串逆序"
   ]
  },
  {
   "cell_type": "code",
   "execution_count": null,
   "metadata": {},
   "outputs": [],
   "source": [
    "def myrev(s):\n",
    "    return s[::-1]\n",
    "s='abcdefg'\n",
    "print(myrev(s))"
   ]
  },
  {
   "attachments": {},
   "cell_type": "markdown",
   "metadata": {},
   "source": [
    "#### 2.写一个函数统计字符串中大写字母和小写字母的个数"
   ]
  },
  {
   "cell_type": "code",
   "execution_count": null,
   "metadata": {},
   "outputs": [],
   "source": [
    "def cnt_u_l(s):\n",
    "    cu=cl=0\n",
    "    for i in s:\n",
    "        if i.isupper():\n",
    "            cu+=1\n",
    "        elif i.islower():\n",
    "            cl+=1\n",
    "    print('大写字母个数：  ',cu)\n",
    "    print('小写字母个数：  ',cl)\n",
    "\n",
    "s='ABCabc123Z'\n",
    "cnt_u_l(s)"
   ]
  },
  {
   "attachments": {},
   "cell_type": "markdown",
   "metadata": {},
   "source": [
    "# HW6"
   ]
  },
  {
   "attachments": {},
   "cell_type": "markdown",
   "metadata": {},
   "source": [
    "#### 1.写一个类将整数转换成罗马数字"
   ]
  },
  {
   "cell_type": "code",
   "execution_count": 1,
   "metadata": {},
   "outputs": [
    {
     "name": "stdout",
     "output_type": "stream",
     "text": [
      "XIX\n"
     ]
    }
   ],
   "source": [
    "class Roman:\n",
    "    dic={1000:'M', 900:'CM',500:'D',400:'CD',100:'C',90:'XC',50:'L',40:'XL',10:'X',9:'IX',5:'V',4:'IV',1:'I'}\n",
    "    def toRoman(self,num):\n",
    "        res=''\n",
    "        for key,val in self.dic.items():\n",
    "            while(num>=key):\n",
    "                res+=val\n",
    "                num-=key\n",
    "        print(res)\n",
    "\n",
    "a=Roman()\n",
    "a.toRoman(19)\n"
   ]
  },
  {
   "attachments": {},
   "cell_type": "markdown",
   "metadata": {},
   "source": [
    "#### 2.写一个类实现pow(x,n)"
   ]
  },
  {
   "cell_type": "code",
   "execution_count": 2,
   "metadata": {},
   "outputs": [
    {
     "name": "stdout",
     "output_type": "stream",
     "text": [
      "16.0\n"
     ]
    }
   ],
   "source": [
    "class Pow():\n",
    "    base:int\n",
    "    def __init__(self,base:float):\n",
    "        self.base=base\n",
    "    def mpow(self,exp:int)->float:\n",
    "        if exp==0:\n",
    "            return 1\n",
    "        elif exp==1:\n",
    "            return self.base\n",
    "        elif exp<0:\n",
    "            self.base=1/self.base\n",
    "            exp=-exp\n",
    "        if exp%2:\n",
    "            return self.mpow(exp//2)**2*self.base\n",
    "        else:\n",
    "            return self.mpow(exp//2)**2\n",
    "\n",
    "a=Pow(0.25)\n",
    "print(a.mpow(-2))\n"
   ]
  },
  {
   "attachments": {},
   "cell_type": "markdown",
   "metadata": {},
   "source": [
    "# HW7"
   ]
  },
  {
   "attachments": {},
   "cell_type": "markdown",
   "metadata": {},
   "source": [
    "#### 1.写一个程序找到文件中最长的英文单词"
   ]
  },
  {
   "cell_type": "code",
   "execution_count": 11,
   "metadata": {},
   "outputs": [
    {
     "name": "stdout",
     "output_type": "stream",
     "text": [
      "preconditioning\n"
     ]
    }
   ],
   "source": [
    "import re\n",
    "def long_word(filename):\n",
    "    ll=0\n",
    "    lword=''\n",
    "    with open(filename,'r') as f:\n",
    "        for line in f:\n",
    "            words=re.findall(\"[a-zA-Z]+\",line)\n",
    "            for word in words:\n",
    "                if len(word)>ll:\n",
    "                    ll=len(word)\n",
    "                    lword=word\n",
    "    print(lword)\n",
    "\n",
    "filename='./7_1.txt'\n",
    "long_word(filename)"
   ]
  },
  {
   "attachments": {},
   "cell_type": "markdown",
   "metadata": {},
   "source": [
    "#### 2.写一个程序将一个字符串列表写入文件"
   ]
  },
  {
   "cell_type": "code",
   "execution_count": 13,
   "metadata": {},
   "outputs": [],
   "source": [
    "strs=['aa','bb','cc','dd']\n",
    "with open('./7_2.txt','w+',encoding='utf-8') as f:\n",
    "    for str in strs:\n",
    "        f.write(str+' ')"
   ]
  }
 ],
 "metadata": {
  "kernelspec": {
   "display_name": "rcv",
   "language": "python",
   "name": "python3"
  },
  "language_info": {
   "codemirror_mode": {
    "name": "ipython",
    "version": 3
   },
   "file_extension": ".py",
   "mimetype": "text/x-python",
   "name": "python",
   "nbconvert_exporter": "python",
   "pygments_lexer": "ipython3",
   "version": "3.10.6"
  },
  "orig_nbformat": 4,
  "vscode": {
   "interpreter": {
    "hash": "542fd4f30bf46917ec78e33379f1eba9283fbb44c2bed8bf39201eb24d6ab4a7"
   }
  }
 },
 "nbformat": 4,
 "nbformat_minor": 2
}
